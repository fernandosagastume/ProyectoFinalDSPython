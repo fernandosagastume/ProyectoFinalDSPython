{
 "cells": [
  {
   "attachments": {},
   "cell_type": "markdown",
   "metadata": {},
   "source": [
    "# Scope del Proyecto"
   ]
  },
  {
   "attachments": {},
   "cell_type": "markdown",
   "metadata": {},
   "source": [
    "## Objetivo general:\n",
    "\n",
    "* Analizar la satisfacción de los pasajeros de las aerolíneas y determinar los factores que tienen el mayor impacto en su satisfacción.\n",
    "\n",
    "## Objetivos específicos:\n",
    "\n",
    "* Identificar las variables que están más correlacionadas con la satisfacción de los pasajeros.\n",
    "* Analizar la relación entre la satisfacción de los pasajeros y los diferentes aspectos del servicio de la aerolínea, como la comodidad del asiento, el entretenimiento a bordo, la limpieza, etc.\n",
    "* Determinar si hay diferencias significativas en la satisfacción de los pasajeros según la aerolínea, el tipo de viaje (nacional/internacional), la clase de viaje, el destino, etc.\n",
    "* Identificar patrones en la satisfacción de los pasajeros a lo largo del tiempo."
   ]
  },
  {
   "attachments": {},
   "cell_type": "markdown",
   "metadata": {},
   "source": [
    "## Preguntas Planteadas\n",
    "1. ¿Cuantos clientes leales tuvieron vuelos satisfactorios?\n",
    "2. ¿A qué sexo (masculino y femenino) le costó más agendar un vuelo en línea?\n",
    "3. ¿Cuáles son los factores que tienen el mayor impacto en la satisfacción de los pasajeros?\n",
    "4. ¿Hay alguna diferencia en la satisfacción de los pasajeros entre las diferentes aerolíneas?\n",
    "5. ¿La satisfacción de los pasajeros difiere según el tipo de viaje o la clase de viaje?\n",
    "6. ¿Existe algún patrón en la satisfacción de los pasajeros a lo largo del tiempo?"
   ]
  },
  {
   "attachments": {},
   "cell_type": "markdown",
   "metadata": {},
   "source": [
    "# Exploración de datos"
   ]
  },
  {
   "cell_type": "code",
   "execution_count": 1,
   "metadata": {},
   "outputs": [],
   "source": [
    "# Importación de librerias utilizadas en el proyecto\n",
    "import numpy as np\n",
    "import pandas as pd"
   ]
  }
 ],
 "metadata": {
  "kernelspec": {
   "display_name": "base",
   "language": "python",
   "name": "python3"
  },
  "language_info": {
   "codemirror_mode": {
    "name": "ipython",
    "version": 3
   },
   "file_extension": ".py",
   "mimetype": "text/x-python",
   "name": "python",
   "nbconvert_exporter": "python",
   "pygments_lexer": "ipython3",
   "version": "3.9.13"
  },
  "orig_nbformat": 4
 },
 "nbformat": 4,
 "nbformat_minor": 2
}
