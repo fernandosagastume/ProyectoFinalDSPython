{
 "cells": [
  {
   "attachments": {},
   "cell_type": "markdown",
   "metadata": {},
   "source": [
    "# Scope del Proyecto"
   ]
  },
  {
   "attachments": {},
   "cell_type": "markdown",
   "metadata": {},
   "source": [
    "## Objetivo general:\n",
    "\n",
    "* Analizar la satisfacción de los pasajeros de las aerolíneas y determinar los factores que tienen el mayor impacto en su satisfacción.\n",
    "\n",
    "## Objetivos específicos:\n",
    "\n",
    "* Identificar las variables que están más correlacionadas con la satisfacción de los pasajeros.\n",
    "* Analizar la relación entre la satisfacción de los pasajeros y los diferentes aspectos del servicio de la aerolínea, como la comodidad del asiento, el entretenimiento a bordo, la limpieza, etc.\n",
    "* Determinar si hay diferencias significativas en la satisfacción de los pasajeros según la aerolínea, el tipo de viaje (nacional/internacional), la clase de viaje, el destino, etc.\n",
    "* Identificar patrones en la satisfacción de los pasajeros a lo largo del tiempo."
   ]
  },
  {
   "attachments": {},
   "cell_type": "markdown",
   "metadata": {},
   "source": [
    "## Preguntas Planteadas\n",
    "1. ¿Cuantos clientes leales tuvieron vuelos satisfactorios?\n",
    "2. ¿A qué sexo (masculino y femenino) le costó más agendar un vuelo en línea?\n",
    "3. ¿Cuáles son los factores que tienen el mayor impacto en la satisfacción de los pasajeros?\n",
    "4. ¿Hay alguna diferencia en la satisfacción de los pasajeros entre las diferentes aerolíneas?\n",
    "5. ¿La satisfacción de los pasajeros difiere según el tipo de viaje o la clase de viaje?"
   ]
  },
  {
   "attachments": {},
   "cell_type": "markdown",
   "metadata": {},
   "source": [
    "# Exploración de datos"
   ]
  },
  {
   "cell_type": "code",
   "execution_count": 1,
   "metadata": {},
   "outputs": [],
   "source": [
    "# Importación de librerias utilizadas en el proyecto\n",
    "import numpy as np\n",
    "import pandas as pd\n",
    "import boto3\n",
    "import psycopg2\n",
    "import configparser\n",
    "import io\n",
    "from io import BytesIO\n",
    "import random\n",
    "from sqlalchemy import create_engine"
   ]
  },
  {
   "cell_type": "code",
   "execution_count": 2,
   "metadata": {},
   "outputs": [
    {
     "data": {
      "text/plain": [
       "['escec.cfg']"
      ]
     },
     "execution_count": 2,
     "metadata": {},
     "output_type": "execute_result"
    }
   ],
   "source": [
    "config = configparser.ConfigParser()\n",
    "config.read('escec.cfg')"
   ]
  },
  {
   "cell_type": "code",
   "execution_count": 3,
   "metadata": {},
   "outputs": [],
   "source": [
    "# Se prepara para la lectura del dataset almacenado en S3\n",
    "s3 = boto3.resource(\n",
    "    service_name = 's3',\n",
    "    region_name = 'us-east-1',\n",
    "    aws_access_key_id = config.get('IAM', 'ACCESS_KEY'),\n",
    "    aws_secret_access_key = config.get('IAM', 'SECRET_ACCESS_KEY')\n",
    ")"
   ]
  },
  {
   "cell_type": "code",
   "execution_count": 4,
   "metadata": {},
   "outputs": [
    {
     "name": "stdout",
     "output_type": "stream",
     "text": [
      "airlineairports\n",
      "airlinesatisfactiondataset\n"
     ]
    }
   ],
   "source": [
    "for bucket in s3.buckets.all():\n",
    "    S3_BUCKET_NAME = bucket.name\n",
    "    print(bucket.name)"
   ]
  },
  {
   "cell_type": "code",
   "execution_count": 5,
   "metadata": {},
   "outputs": [],
   "source": [
    "S3_BUCKET_AIRLINES = 'airlinesatisfactiondataset'\n",
    "FILE_NAME = 'data/airline_satisfaction.csv'"
   ]
  },
  {
   "cell_type": "code",
   "execution_count": 6,
   "metadata": {},
   "outputs": [],
   "source": [
    "S3_BUCKET_AIRLPORTS = 'airlineairports'\n",
    "FILE_NAME = 'data/airports.csv'"
   ]
  },
  {
   "cell_type": "code",
   "execution_count": 7,
   "metadata": {},
   "outputs": [
    {
     "data": {
      "text/plain": [
       "['data/', 'data/airline_satisfaction.csv']"
      ]
     },
     "execution_count": 7,
     "metadata": {},
     "output_type": "execute_result"
    }
   ],
   "source": [
    "#extraemos todo lo que está en el bucket para los datos de satisfaccion\n",
    "remoteFileListAirline = []\n",
    "for objt in s3.Bucket(S3_BUCKET_AIRLINES).objects.all():\n",
    "    remoteFileListAirline.append(objt.key)\n",
    "\n",
    "remoteFileListAirline"
   ]
  },
  {
   "cell_type": "code",
   "execution_count": 8,
   "metadata": {},
   "outputs": [
    {
     "data": {
      "text/plain": [
       "['data/', 'data/airports.csv']"
      ]
     },
     "execution_count": 8,
     "metadata": {},
     "output_type": "execute_result"
    }
   ],
   "source": [
    "#extraemos todo lo que está en el bucket para los datos de aeropuertos\n",
    "remoteFileListAirports = []\n",
    "for objt in s3.Bucket(S3_BUCKET_AIRLPORTS).objects.all():\n",
    "    remoteFileListAirports.append(objt.key)\n",
    "\n",
    "remoteFileListAirports"
   ]
  },
  {
   "attachments": {},
   "cell_type": "markdown",
   "metadata": {},
   "source": [
    "## Se lee el archivo con datos de satisfacción de los aeropuertos"
   ]
  },
  {
   "cell_type": "code",
   "execution_count": 9,
   "metadata": {},
   "outputs": [
    {
     "name": "stdout",
     "output_type": "stream",
     "text": [
      "No es un archivo.\n",
      "No columns to parse from file\n"
     ]
    },
    {
     "data": {
      "text/html": [
       "<div>\n",
       "<style scoped>\n",
       "    .dataframe tbody tr th:only-of-type {\n",
       "        vertical-align: middle;\n",
       "    }\n",
       "\n",
       "    .dataframe tbody tr th {\n",
       "        vertical-align: top;\n",
       "    }\n",
       "\n",
       "    .dataframe thead th {\n",
       "        text-align: right;\n",
       "    }\n",
       "</style>\n",
       "<table border=\"1\" class=\"dataframe\">\n",
       "  <thead>\n",
       "    <tr style=\"text-align: right;\">\n",
       "      <th></th>\n",
       "      <th>idAirport</th>\n",
       "      <th>airportName</th>\n",
       "      <th>airportCode</th>\n",
       "    </tr>\n",
       "  </thead>\n",
       "  <tbody>\n",
       "    <tr>\n",
       "      <th>0</th>\n",
       "      <td>1</td>\n",
       "      <td>Ukhta Airport</td>\n",
       "      <td>UCT</td>\n",
       "    </tr>\n",
       "    <tr>\n",
       "      <th>1</th>\n",
       "      <td>2</td>\n",
       "      <td>Aleknagik / New Airport</td>\n",
       "      <td>WKK</td>\n",
       "    </tr>\n",
       "    <tr>\n",
       "      <th>2</th>\n",
       "      <td>3</td>\n",
       "      <td>Guangzhou Baiyun International Airport</td>\n",
       "      <td>CAN</td>\n",
       "    </tr>\n",
       "    <tr>\n",
       "      <th>3</th>\n",
       "      <td>4</td>\n",
       "      <td>Leipzig/Halle Airport</td>\n",
       "      <td>LEJ</td>\n",
       "    </tr>\n",
       "    <tr>\n",
       "      <th>4</th>\n",
       "      <td>5</td>\n",
       "      <td>Charleston Air Force Base-International Airport</td>\n",
       "      <td>CHS</td>\n",
       "    </tr>\n",
       "  </tbody>\n",
       "</table>\n",
       "</div>"
      ],
      "text/plain": [
       "   idAirport                                      airportName airportCode\n",
       "0          1                                    Ukhta Airport         UCT\n",
       "1          2                          Aleknagik / New Airport         WKK\n",
       "2          3           Guangzhou Baiyun International Airport         CAN\n",
       "3          4                            Leipzig/Halle Airport         LEJ\n",
       "4          5  Charleston Air Force Base-International Airport         CHS"
      ]
     },
     "execution_count": 9,
     "metadata": {},
     "output_type": "execute_result"
    }
   ],
   "source": [
    "for remoteFile in remoteFileListAirports:\n",
    "    try:\n",
    "        file = s3.Bucket(S3_BUCKET_AIRLPORTS).Object(remoteFile).get()\n",
    "        data = file['Body'].read()\n",
    "        df_airports = pd.read_csv(BytesIO(data))\n",
    "    except Exception as ex:\n",
    "        print(\"No es un archivo.\")\n",
    "        print(ex)\n",
    "\n",
    "df_airports.head()"
   ]
  },
  {
   "attachments": {},
   "cell_type": "markdown",
   "metadata": {},
   "source": [
    "## Se lee el archivo con datos de satisfacción de las aerolineas"
   ]
  },
  {
   "cell_type": "code",
   "execution_count": 10,
   "metadata": {},
   "outputs": [
    {
     "name": "stdout",
     "output_type": "stream",
     "text": [
      "No es un archivo.\n",
      "No columns to parse from file\n"
     ]
    },
    {
     "data": {
      "text/html": [
       "<div>\n",
       "<style scoped>\n",
       "    .dataframe tbody tr th:only-of-type {\n",
       "        vertical-align: middle;\n",
       "    }\n",
       "\n",
       "    .dataframe tbody tr th {\n",
       "        vertical-align: top;\n",
       "    }\n",
       "\n",
       "    .dataframe thead th {\n",
       "        text-align: right;\n",
       "    }\n",
       "</style>\n",
       "<table border=\"1\" class=\"dataframe\">\n",
       "  <thead>\n",
       "    <tr style=\"text-align: right;\">\n",
       "      <th></th>\n",
       "      <th>id</th>\n",
       "      <th>Gender</th>\n",
       "      <th>Customer Type</th>\n",
       "      <th>Age</th>\n",
       "      <th>Type of Travel</th>\n",
       "      <th>Class</th>\n",
       "      <th>Flight Distance</th>\n",
       "      <th>Inflight wifi service</th>\n",
       "      <th>Departure/Arrival time convenient</th>\n",
       "      <th>Ease of Online booking</th>\n",
       "      <th>...</th>\n",
       "      <th>On-board service</th>\n",
       "      <th>Leg room service</th>\n",
       "      <th>Baggage handling</th>\n",
       "      <th>Checkin service</th>\n",
       "      <th>Inflight service</th>\n",
       "      <th>Cleanliness</th>\n",
       "      <th>Departure Delay in Minutes</th>\n",
       "      <th>Arrival Delay in Minutes</th>\n",
       "      <th>satisfaction</th>\n",
       "      <th>idAirport;;;;;</th>\n",
       "    </tr>\n",
       "  </thead>\n",
       "  <tbody>\n",
       "    <tr>\n",
       "      <th>0</th>\n",
       "      <td>106966</td>\n",
       "      <td>Female</td>\n",
       "      <td>Loyal Customer</td>\n",
       "      <td>40</td>\n",
       "      <td>Business travel</td>\n",
       "      <td>Eco</td>\n",
       "      <td>1036</td>\n",
       "      <td>2</td>\n",
       "      <td>3</td>\n",
       "      <td>3</td>\n",
       "      <td>...</td>\n",
       "      <td>1</td>\n",
       "      <td>1</td>\n",
       "      <td>2</td>\n",
       "      <td>1</td>\n",
       "      <td>2</td>\n",
       "      <td>2</td>\n",
       "      <td>26</td>\n",
       "      <td>32.0</td>\n",
       "      <td>neutral or dissatisfied</td>\n",
       "      <td>105;;;;;</td>\n",
       "    </tr>\n",
       "    <tr>\n",
       "      <th>1</th>\n",
       "      <td>54152</td>\n",
       "      <td>Female</td>\n",
       "      <td>Loyal Customer</td>\n",
       "      <td>34</td>\n",
       "      <td>Business travel</td>\n",
       "      <td>Business</td>\n",
       "      <td>1569</td>\n",
       "      <td>2</td>\n",
       "      <td>2</td>\n",
       "      <td>2</td>\n",
       "      <td>...</td>\n",
       "      <td>3</td>\n",
       "      <td>4</td>\n",
       "      <td>3</td>\n",
       "      <td>3</td>\n",
       "      <td>3</td>\n",
       "      <td>3</td>\n",
       "      <td>0</td>\n",
       "      <td>0.0</td>\n",
       "      <td>satisfied</td>\n",
       "      <td>931;;;;;</td>\n",
       "    </tr>\n",
       "    <tr>\n",
       "      <th>2</th>\n",
       "      <td>26463</td>\n",
       "      <td>Female</td>\n",
       "      <td>Loyal Customer</td>\n",
       "      <td>54</td>\n",
       "      <td>Personal Travel</td>\n",
       "      <td>Eco</td>\n",
       "      <td>925</td>\n",
       "      <td>3</td>\n",
       "      <td>4</td>\n",
       "      <td>4</td>\n",
       "      <td>...</td>\n",
       "      <td>4</td>\n",
       "      <td>4</td>\n",
       "      <td>4</td>\n",
       "      <td>3</td>\n",
       "      <td>4</td>\n",
       "      <td>2</td>\n",
       "      <td>0</td>\n",
       "      <td>1.0</td>\n",
       "      <td>neutral or dissatisfied</td>\n",
       "      <td>800;;;;;</td>\n",
       "    </tr>\n",
       "    <tr>\n",
       "      <th>3</th>\n",
       "      <td>46257</td>\n",
       "      <td>Female</td>\n",
       "      <td>Loyal Customer</td>\n",
       "      <td>69</td>\n",
       "      <td>Personal Travel</td>\n",
       "      <td>Eco</td>\n",
       "      <td>624</td>\n",
       "      <td>3</td>\n",
       "      <td>1</td>\n",
       "      <td>3</td>\n",
       "      <td>...</td>\n",
       "      <td>4</td>\n",
       "      <td>3</td>\n",
       "      <td>4</td>\n",
       "      <td>1</td>\n",
       "      <td>4</td>\n",
       "      <td>3</td>\n",
       "      <td>36</td>\n",
       "      <td>33.0</td>\n",
       "      <td>neutral or dissatisfied</td>\n",
       "      <td>986;;;;;</td>\n",
       "    </tr>\n",
       "    <tr>\n",
       "      <th>4</th>\n",
       "      <td>33133</td>\n",
       "      <td>Male</td>\n",
       "      <td>Loyal Customer</td>\n",
       "      <td>48</td>\n",
       "      <td>Personal Travel</td>\n",
       "      <td>Eco</td>\n",
       "      <td>102</td>\n",
       "      <td>4</td>\n",
       "      <td>4</td>\n",
       "      <td>4</td>\n",
       "      <td>...</td>\n",
       "      <td>4</td>\n",
       "      <td>3</td>\n",
       "      <td>5</td>\n",
       "      <td>5</td>\n",
       "      <td>5</td>\n",
       "      <td>1</td>\n",
       "      <td>1</td>\n",
       "      <td>4.0</td>\n",
       "      <td>satisfied</td>\n",
       "      <td>801;;;;;</td>\n",
       "    </tr>\n",
       "  </tbody>\n",
       "</table>\n",
       "<p>5 rows × 25 columns</p>\n",
       "</div>"
      ],
      "text/plain": [
       "       id  Gender   Customer Type  Age   Type of Travel     Class  \\\n",
       "0  106966  Female  Loyal Customer   40  Business travel       Eco   \n",
       "1   54152  Female  Loyal Customer   34  Business travel  Business   \n",
       "2   26463  Female  Loyal Customer   54  Personal Travel       Eco   \n",
       "3   46257  Female  Loyal Customer   69  Personal Travel       Eco   \n",
       "4   33133    Male  Loyal Customer   48  Personal Travel       Eco   \n",
       "\n",
       "   Flight Distance  Inflight wifi service  Departure/Arrival time convenient  \\\n",
       "0             1036                      2                                  3   \n",
       "1             1569                      2                                  2   \n",
       "2              925                      3                                  4   \n",
       "3              624                      3                                  1   \n",
       "4              102                      4                                  4   \n",
       "\n",
       "   Ease of Online booking  ...  On-board service  Leg room service  \\\n",
       "0                       3  ...                 1                 1   \n",
       "1                       2  ...                 3                 4   \n",
       "2                       4  ...                 4                 4   \n",
       "3                       3  ...                 4                 3   \n",
       "4                       4  ...                 4                 3   \n",
       "\n",
       "   Baggage handling  Checkin service  Inflight service  Cleanliness  \\\n",
       "0                 2                1                 2            2   \n",
       "1                 3                3                 3            3   \n",
       "2                 4                3                 4            2   \n",
       "3                 4                1                 4            3   \n",
       "4                 5                5                 5            1   \n",
       "\n",
       "   Departure Delay in Minutes  Arrival Delay in Minutes  \\\n",
       "0                          26                      32.0   \n",
       "1                           0                       0.0   \n",
       "2                           0                       1.0   \n",
       "3                          36                      33.0   \n",
       "4                           1                       4.0   \n",
       "\n",
       "              satisfaction  idAirport;;;;;  \n",
       "0  neutral or dissatisfied        105;;;;;  \n",
       "1                satisfied        931;;;;;  \n",
       "2  neutral or dissatisfied        800;;;;;  \n",
       "3  neutral or dissatisfied        986;;;;;  \n",
       "4                satisfied        801;;;;;  \n",
       "\n",
       "[5 rows x 25 columns]"
      ]
     },
     "execution_count": 10,
     "metadata": {},
     "output_type": "execute_result"
    }
   ],
   "source": [
    "for remoteFile in remoteFileListAirline:\n",
    "    try:\n",
    "        file = s3.Bucket(S3_BUCKET_AIRLINES).Object(remoteFile).get()\n",
    "        data = file['Body'].read()\n",
    "        df = pd.read_csv(BytesIO(data))\n",
    "        # Se elimina la primera columna del dataframe (era el número de fila)\n",
    "        del df[df.columns[0]]\n",
    "    except Exception as ex:\n",
    "        print(\"No es un archivo.\")\n",
    "        print(ex)\n",
    "\n",
    "df.head()"
   ]
  },
  {
   "cell_type": "code",
   "execution_count": 11,
   "metadata": {},
   "outputs": [
    {
     "data": {
      "text/html": [
       "<div>\n",
       "<style scoped>\n",
       "    .dataframe tbody tr th:only-of-type {\n",
       "        vertical-align: middle;\n",
       "    }\n",
       "\n",
       "    .dataframe tbody tr th {\n",
       "        vertical-align: top;\n",
       "    }\n",
       "\n",
       "    .dataframe thead th {\n",
       "        text-align: right;\n",
       "    }\n",
       "</style>\n",
       "<table border=\"1\" class=\"dataframe\">\n",
       "  <thead>\n",
       "    <tr style=\"text-align: right;\">\n",
       "      <th></th>\n",
       "      <th>id</th>\n",
       "      <th>Gender</th>\n",
       "      <th>Customer Type</th>\n",
       "      <th>Age</th>\n",
       "      <th>Type of Travel</th>\n",
       "      <th>Class</th>\n",
       "      <th>Flight Distance</th>\n",
       "      <th>Inflight wifi service</th>\n",
       "      <th>Departure/Arrival time convenient</th>\n",
       "      <th>Ease of Online booking</th>\n",
       "      <th>...</th>\n",
       "      <th>On-board service</th>\n",
       "      <th>Leg room service</th>\n",
       "      <th>Baggage handling</th>\n",
       "      <th>Checkin service</th>\n",
       "      <th>Inflight service</th>\n",
       "      <th>Cleanliness</th>\n",
       "      <th>Departure Delay in Minutes</th>\n",
       "      <th>Arrival Delay in Minutes</th>\n",
       "      <th>satisfaction</th>\n",
       "      <th>idAirport</th>\n",
       "    </tr>\n",
       "  </thead>\n",
       "  <tbody>\n",
       "    <tr>\n",
       "      <th>0</th>\n",
       "      <td>106966</td>\n",
       "      <td>Female</td>\n",
       "      <td>Loyal Customer</td>\n",
       "      <td>40</td>\n",
       "      <td>Business travel</td>\n",
       "      <td>Eco</td>\n",
       "      <td>1036</td>\n",
       "      <td>2</td>\n",
       "      <td>3</td>\n",
       "      <td>3</td>\n",
       "      <td>...</td>\n",
       "      <td>1</td>\n",
       "      <td>1</td>\n",
       "      <td>2</td>\n",
       "      <td>1</td>\n",
       "      <td>2</td>\n",
       "      <td>2</td>\n",
       "      <td>26</td>\n",
       "      <td>32.0</td>\n",
       "      <td>neutral or dissatisfied</td>\n",
       "      <td>105</td>\n",
       "    </tr>\n",
       "    <tr>\n",
       "      <th>1</th>\n",
       "      <td>54152</td>\n",
       "      <td>Female</td>\n",
       "      <td>Loyal Customer</td>\n",
       "      <td>34</td>\n",
       "      <td>Business travel</td>\n",
       "      <td>Business</td>\n",
       "      <td>1569</td>\n",
       "      <td>2</td>\n",
       "      <td>2</td>\n",
       "      <td>2</td>\n",
       "      <td>...</td>\n",
       "      <td>3</td>\n",
       "      <td>4</td>\n",
       "      <td>3</td>\n",
       "      <td>3</td>\n",
       "      <td>3</td>\n",
       "      <td>3</td>\n",
       "      <td>0</td>\n",
       "      <td>0.0</td>\n",
       "      <td>satisfied</td>\n",
       "      <td>931</td>\n",
       "    </tr>\n",
       "    <tr>\n",
       "      <th>2</th>\n",
       "      <td>26463</td>\n",
       "      <td>Female</td>\n",
       "      <td>Loyal Customer</td>\n",
       "      <td>54</td>\n",
       "      <td>Personal Travel</td>\n",
       "      <td>Eco</td>\n",
       "      <td>925</td>\n",
       "      <td>3</td>\n",
       "      <td>4</td>\n",
       "      <td>4</td>\n",
       "      <td>...</td>\n",
       "      <td>4</td>\n",
       "      <td>4</td>\n",
       "      <td>4</td>\n",
       "      <td>3</td>\n",
       "      <td>4</td>\n",
       "      <td>2</td>\n",
       "      <td>0</td>\n",
       "      <td>1.0</td>\n",
       "      <td>neutral or dissatisfied</td>\n",
       "      <td>800</td>\n",
       "    </tr>\n",
       "    <tr>\n",
       "      <th>3</th>\n",
       "      <td>46257</td>\n",
       "      <td>Female</td>\n",
       "      <td>Loyal Customer</td>\n",
       "      <td>69</td>\n",
       "      <td>Personal Travel</td>\n",
       "      <td>Eco</td>\n",
       "      <td>624</td>\n",
       "      <td>3</td>\n",
       "      <td>1</td>\n",
       "      <td>3</td>\n",
       "      <td>...</td>\n",
       "      <td>4</td>\n",
       "      <td>3</td>\n",
       "      <td>4</td>\n",
       "      <td>1</td>\n",
       "      <td>4</td>\n",
       "      <td>3</td>\n",
       "      <td>36</td>\n",
       "      <td>33.0</td>\n",
       "      <td>neutral or dissatisfied</td>\n",
       "      <td>986</td>\n",
       "    </tr>\n",
       "    <tr>\n",
       "      <th>4</th>\n",
       "      <td>33133</td>\n",
       "      <td>Male</td>\n",
       "      <td>Loyal Customer</td>\n",
       "      <td>48</td>\n",
       "      <td>Personal Travel</td>\n",
       "      <td>Eco</td>\n",
       "      <td>102</td>\n",
       "      <td>4</td>\n",
       "      <td>4</td>\n",
       "      <td>4</td>\n",
       "      <td>...</td>\n",
       "      <td>4</td>\n",
       "      <td>3</td>\n",
       "      <td>5</td>\n",
       "      <td>5</td>\n",
       "      <td>5</td>\n",
       "      <td>1</td>\n",
       "      <td>1</td>\n",
       "      <td>4.0</td>\n",
       "      <td>satisfied</td>\n",
       "      <td>801</td>\n",
       "    </tr>\n",
       "  </tbody>\n",
       "</table>\n",
       "<p>5 rows × 25 columns</p>\n",
       "</div>"
      ],
      "text/plain": [
       "       id  Gender   Customer Type  Age   Type of Travel     Class  \\\n",
       "0  106966  Female  Loyal Customer   40  Business travel       Eco   \n",
       "1   54152  Female  Loyal Customer   34  Business travel  Business   \n",
       "2   26463  Female  Loyal Customer   54  Personal Travel       Eco   \n",
       "3   46257  Female  Loyal Customer   69  Personal Travel       Eco   \n",
       "4   33133    Male  Loyal Customer   48  Personal Travel       Eco   \n",
       "\n",
       "   Flight Distance  Inflight wifi service  Departure/Arrival time convenient  \\\n",
       "0             1036                      2                                  3   \n",
       "1             1569                      2                                  2   \n",
       "2              925                      3                                  4   \n",
       "3              624                      3                                  1   \n",
       "4              102                      4                                  4   \n",
       "\n",
       "   Ease of Online booking  ...  On-board service  Leg room service  \\\n",
       "0                       3  ...                 1                 1   \n",
       "1                       2  ...                 3                 4   \n",
       "2                       4  ...                 4                 4   \n",
       "3                       3  ...                 4                 3   \n",
       "4                       4  ...                 4                 3   \n",
       "\n",
       "   Baggage handling  Checkin service  Inflight service  Cleanliness  \\\n",
       "0                 2                1                 2            2   \n",
       "1                 3                3                 3            3   \n",
       "2                 4                3                 4            2   \n",
       "3                 4                1                 4            3   \n",
       "4                 5                5                 5            1   \n",
       "\n",
       "   Departure Delay in Minutes  Arrival Delay in Minutes  \\\n",
       "0                          26                      32.0   \n",
       "1                           0                       0.0   \n",
       "2                           0                       1.0   \n",
       "3                          36                      33.0   \n",
       "4                           1                       4.0   \n",
       "\n",
       "              satisfaction  idAirport  \n",
       "0  neutral or dissatisfied        105  \n",
       "1                satisfied        931  \n",
       "2  neutral or dissatisfied        800  \n",
       "3  neutral or dissatisfied        986  \n",
       "4                satisfied        801  \n",
       "\n",
       "[5 rows x 25 columns]"
      ]
     },
     "execution_count": 11,
     "metadata": {},
     "output_type": "execute_result"
    }
   ],
   "source": [
    "# Se limpian los datos con caracteres extraños\n",
    "\n",
    "df['idAirport;;;;;']# limpiar la columna \"idAirport\" eliminando los caracteres \";\"\n",
    "df['idAirport;;;;;'] = df['idAirport;;;;;'].str.replace(';', '')\n",
    "\n",
    "# cambiar el nombre de la columna \"idAirport\" a \"idAirport\"\n",
    "df.columns = ['idAirport' if x=='idAirport;;;;;' else x for x in df.columns]\n",
    "\n",
    "# Los valores de delay nulos se vuelven 0's\n",
    "df['Departure Delay in Minutes'] = df['Departure Delay in Minutes'].fillna(0)\n",
    "df['Arrival Delay in Minutes'] = df['Arrival Delay in Minutes'].fillna(0)\n",
    "\n",
    "df.head()"
   ]
  },
  {
   "attachments": {},
   "cell_type": "markdown",
   "metadata": {},
   "source": [
    "## Se unen las distintas fuentes de información"
   ]
  },
  {
   "cell_type": "code",
   "execution_count": 12,
   "metadata": {},
   "outputs": [],
   "source": [
    "# Obtiene una lista de los idAirport del dataset de aeropuertos\n",
    "# airport_ids = list(df_airports['idAirport'])\n",
    "\n",
    "# Agrega una nueva columna \"idAirport\" al dataset de satisfacción y llena cada fila con un idAirport aleatorio\n",
    "# df['idAirport'] = [random.choice(airport_ids) for _ in range(len(df))]"
   ]
  },
  {
   "cell_type": "code",
   "execution_count": 13,
   "metadata": {},
   "outputs": [],
   "source": [
    "# Dataset de satisfacción con la nueva columna\n",
    "# df.head()"
   ]
  },
  {
   "cell_type": "code",
   "execution_count": 14,
   "metadata": {},
   "outputs": [],
   "source": [
    "# guardar el DataFrame como un archivo CSV\n",
    "# df.to_csv('airline_satisfaction.csv', index=False)"
   ]
  },
  {
   "attachments": {},
   "cell_type": "markdown",
   "metadata": {},
   "source": [
    "## Análisis exploratorio del dataset de satisfacción"
   ]
  },
  {
   "cell_type": "code",
   "execution_count": 15,
   "metadata": {},
   "outputs": [
    {
     "name": "stdout",
     "output_type": "stream",
     "text": [
      "                  id           Age  Flight Distance  Inflight wifi service  \\\n",
      "count   39999.000000  39999.000000     39999.000000           39999.000000   \n",
      "mean    64883.149154     39.393060      1191.004425               2.728768   \n",
      "std     37471.739749     15.094959       994.866002               1.326630   \n",
      "min         2.000000      7.000000        31.000000               0.000000   \n",
      "25%     32485.500000     27.000000       416.000000               2.000000   \n",
      "50%     64951.000000     40.000000       846.000000               3.000000   \n",
      "75%     97285.500000     51.000000      1739.000000               4.000000   \n",
      "max    129880.000000     85.000000      4983.000000               5.000000   \n",
      "\n",
      "       Departure/Arrival time convenient  Ease of Online booking  \\\n",
      "count                       39999.000000            39999.000000   \n",
      "mean                            3.054601                2.754969   \n",
      "std                             1.521310                1.396526   \n",
      "min                             0.000000                0.000000   \n",
      "25%                             2.000000                2.000000   \n",
      "50%                             3.000000                3.000000   \n",
      "75%                             4.000000                4.000000   \n",
      "max                             5.000000                5.000000   \n",
      "\n",
      "       Gate location  Food and drink  Online boarding  Seat comfort  \\\n",
      "count   39999.000000    39999.000000     39999.000000  39999.000000   \n",
      "mean        2.977799        3.206630         3.251056      3.440286   \n",
      "std         1.268853        1.329593         1.347354      1.322900   \n",
      "min         0.000000        0.000000         0.000000      1.000000   \n",
      "25%         2.000000        2.000000         2.000000      2.000000   \n",
      "50%         3.000000        3.000000         3.000000      4.000000   \n",
      "75%         4.000000        4.000000         4.000000      5.000000   \n",
      "max         5.000000        5.000000         5.000000      5.000000   \n",
      "\n",
      "       Inflight entertainment  On-board service  Leg room service  \\\n",
      "count            39999.000000      39999.000000      39999.000000   \n",
      "mean                 3.356409          3.379884          3.349709   \n",
      "std                  1.336905          1.290755          1.315520   \n",
      "min                  0.000000          0.000000          0.000000   \n",
      "25%                  2.000000          2.000000          2.000000   \n",
      "50%                  4.000000          4.000000          4.000000   \n",
      "75%                  4.000000          4.000000          4.000000   \n",
      "max                  5.000000          5.000000          5.000000   \n",
      "\n",
      "       Baggage handling  Checkin service  Inflight service   Cleanliness  \\\n",
      "count      39999.000000     39999.000000      39999.000000  39999.000000   \n",
      "mean           3.631141         3.301383          3.635766      3.287107   \n",
      "std            1.183223         1.266580          1.178911      1.311853   \n",
      "min            1.000000         1.000000          0.000000      0.000000   \n",
      "25%            3.000000         3.000000          3.000000      2.000000   \n",
      "50%            4.000000         3.000000          4.000000      3.000000   \n",
      "75%            5.000000         4.000000          5.000000      4.000000   \n",
      "max            5.000000         5.000000          5.000000      5.000000   \n",
      "\n",
      "       Departure Delay in Minutes  Arrival Delay in Minutes  \n",
      "count                39999.000000              39999.000000  \n",
      "mean                    14.786320                 15.043551  \n",
      "std                     38.420326                 38.696133  \n",
      "min                      0.000000                  0.000000  \n",
      "25%                      0.000000                  0.000000  \n",
      "50%                      0.000000                  0.000000  \n",
      "75%                     12.000000                 13.000000  \n",
      "max                   1017.000000               1011.000000  \n"
     ]
    }
   ],
   "source": [
    "# Se obtienen estadísticas descriptivas de variables numéricas\n",
    "print(df.describe())"
   ]
  },
  {
   "cell_type": "code",
   "execution_count": 16,
   "metadata": {},
   "outputs": [
    {
     "name": "stdout",
     "output_type": "stream",
     "text": [
      "neutral or dissatisfied    22732\n",
      "satisfied                  17267\n",
      "Name: satisfaction, dtype: int64\n"
     ]
    }
   ],
   "source": [
    "# Se obtiene la distribución de los valores en la variable \"satisfaction\"\n",
    "print(df[\"satisfaction\"].value_counts())"
   ]
  },
  {
   "cell_type": "code",
   "execution_count": 17,
   "metadata": {},
   "outputs": [
    {
     "name": "stdout",
     "output_type": "stream",
     "text": [
      "                                         id       Age  Flight Distance  \\\n",
      "id                                 1.000000  0.018632         0.092981   \n",
      "Age                                0.018632  1.000000         0.103459   \n",
      "Flight Distance                    0.092981  0.103459         1.000000   \n",
      "Inflight wifi service             -0.022387  0.015945         0.003062   \n",
      "Departure/Arrival time convenient -0.000570  0.041585        -0.022547   \n",
      "Ease of Online booking             0.014507  0.021882         0.060478   \n",
      "Gate location                      0.003063 -0.001064         0.002079   \n",
      "Food and drink                    -0.003640  0.022470         0.052078   \n",
      "Online boarding                    0.056004  0.209083         0.215556   \n",
      "Seat comfort                       0.044269  0.156752         0.158683   \n",
      "Inflight entertainment            -0.006200  0.074431         0.123347   \n",
      "On-board service                   0.051124  0.054516         0.111838   \n",
      "Leg room service                   0.037175  0.036612         0.133550   \n",
      "Baggage handling                   0.068095 -0.047510         0.054505   \n",
      "Checkin service                    0.081459  0.034929         0.079111   \n",
      "Inflight service                   0.076934 -0.052009         0.057244   \n",
      "Cleanliness                        0.014024  0.050575         0.089309   \n",
      "Departure Delay in Minutes        -0.017578 -0.009808         0.004569   \n",
      "Arrival Delay in Minutes          -0.035797 -0.010940         0.001093   \n",
      "\n",
      "                                   Inflight wifi service  \\\n",
      "id                                             -0.022387   \n",
      "Age                                             0.015945   \n",
      "Flight Distance                                 0.003062   \n",
      "Inflight wifi service                           1.000000   \n",
      "Departure/Arrival time convenient               0.346107   \n",
      "Ease of Online booking                          0.719195   \n",
      "Gate location                                   0.338848   \n",
      "Food and drink                                  0.133317   \n",
      "Online boarding                                 0.456370   \n",
      "Seat comfort                                    0.122466   \n",
      "Inflight entertainment                          0.211809   \n",
      "On-board service                                0.121642   \n",
      "Leg room service                                0.161020   \n",
      "Baggage handling                                0.121116   \n",
      "Checkin service                                 0.044767   \n",
      "Inflight service                                0.111715   \n",
      "Cleanliness                                     0.136859   \n",
      "Departure Delay in Minutes                     -0.018152   \n",
      "Arrival Delay in Minutes                       -0.018103   \n",
      "\n",
      "                                   Departure/Arrival time convenient  \\\n",
      "id                                                         -0.000570   \n",
      "Age                                                         0.041585   \n",
      "Flight Distance                                            -0.022547   \n",
      "Inflight wifi service                                       0.346107   \n",
      "Departure/Arrival time convenient                           1.000000   \n",
      "Ease of Online booking                                      0.436681   \n",
      "Gate location                                               0.441704   \n",
      "Food and drink                                              0.010206   \n",
      "Online boarding                                             0.073863   \n",
      "Seat comfort                                                0.014838   \n",
      "Inflight entertainment                                     -0.004381   \n",
      "On-board service                                            0.064925   \n",
      "Leg room service                                            0.005899   \n",
      "Baggage handling                                            0.070079   \n",
      "Checkin service                                             0.101008   \n",
      "Inflight service                                            0.071059   \n",
      "Cleanliness                                                 0.015796   \n",
      "Departure Delay in Minutes                                  0.001028   \n",
      "Arrival Delay in Minutes                                   -0.001131   \n",
      "\n",
      "                                   Ease of Online booking  Gate location  \\\n",
      "id                                               0.014507       0.003063   \n",
      "Age                                              0.021882      -0.001064   \n",
      "Flight Distance                                  0.060478       0.002079   \n",
      "Inflight wifi service                            0.719195       0.338848   \n",
      "Departure/Arrival time convenient                0.436681       0.441704   \n",
      "Ease of Online booking                           1.000000       0.457087   \n",
      "Gate location                                    0.457087       1.000000   \n",
      "Food and drink                                   0.034674       0.000630   \n",
      "Online boarding                                  0.406408       0.002865   \n",
      "Seat comfort                                     0.031074       0.003485   \n",
      "Inflight entertainment                           0.048544       0.000803   \n",
      "On-board service                                 0.037590      -0.031075   \n",
      "Leg room service                                 0.108740      -0.012334   \n",
      "Baggage handling                                 0.033148      -0.001741   \n",
      "Checkin service                                  0.011899      -0.032130   \n",
      "Inflight service                                 0.033046      -0.004470   \n",
      "Cleanliness                                      0.018832      -0.005528   \n",
      "Departure Delay in Minutes                      -0.006680       0.006087   \n",
      "Arrival Delay in Minutes                        -0.006379       0.006955   \n",
      "\n",
      "                                   Food and drink  Online boarding  \\\n",
      "id                                      -0.003640         0.056004   \n",
      "Age                                      0.022470         0.209083   \n",
      "Flight Distance                          0.052078         0.215556   \n",
      "Inflight wifi service                    0.133317         0.456370   \n",
      "Departure/Arrival time convenient        0.010206         0.073863   \n",
      "Ease of Online booking                   0.034674         0.406408   \n",
      "Gate location                            0.000630         0.002865   \n",
      "Food and drink                           1.000000         0.232075   \n",
      "Online boarding                          0.232075         1.000000   \n",
      "Seat comfort                             0.571374         0.421397   \n",
      "Inflight entertainment                   0.620780         0.283519   \n",
      "On-board service                         0.054415         0.156154   \n",
      "Leg room service                         0.031513         0.129222   \n",
      "Baggage handling                         0.031714         0.079449   \n",
      "Checkin service                          0.090027         0.206357   \n",
      "Inflight service                         0.033039         0.073247   \n",
      "Cleanliness                              0.657974         0.328015   \n",
      "Departure Delay in Minutes              -0.035416        -0.022394   \n",
      "Arrival Delay in Minutes                -0.035590        -0.025201   \n",
      "\n",
      "                                   Seat comfort  Inflight entertainment  \\\n",
      "id                                     0.044269               -0.006200   \n",
      "Age                                    0.156752                0.074431   \n",
      "Flight Distance                        0.158683                0.123347   \n",
      "Inflight wifi service                  0.122466                0.211809   \n",
      "Departure/Arrival time convenient      0.014838               -0.004381   \n",
      "Ease of Online booking                 0.031074                0.048544   \n",
      "Gate location                          0.003485                0.000803   \n",
      "Food and drink                         0.571374                0.620780   \n",
      "Online boarding                        0.421397                0.283519   \n",
      "Seat comfort                           1.000000                0.603183   \n",
      "Inflight entertainment                 0.603183                1.000000   \n",
      "On-board service                       0.127732                0.418123   \n",
      "Leg room service                       0.102003                0.299899   \n",
      "Baggage handling                       0.073361                0.379912   \n",
      "Checkin service                        0.193249                0.122998   \n",
      "Inflight service                       0.066023                0.409110   \n",
      "Cleanliness                            0.674293                0.690854   \n",
      "Departure Delay in Minutes            -0.034052               -0.033305   \n",
      "Arrival Delay in Minutes              -0.033613               -0.034946   \n",
      "\n",
      "                                   On-board service  Leg room service  \\\n",
      "id                                         0.051124          0.037175   \n",
      "Age                                        0.054516          0.036612   \n",
      "Flight Distance                            0.111838          0.133550   \n",
      "Inflight wifi service                      0.121642          0.161020   \n",
      "Departure/Arrival time convenient          0.064925          0.005899   \n",
      "Ease of Online booking                     0.037590          0.108740   \n",
      "Gate location                             -0.031075         -0.012334   \n",
      "Food and drink                             0.054415          0.031513   \n",
      "Online boarding                            0.156154          0.129222   \n",
      "Seat comfort                               0.127732          0.102003   \n",
      "Inflight entertainment                     0.418123          0.299899   \n",
      "On-board service                           1.000000          0.358999   \n",
      "Leg room service                           0.358999          1.000000   \n",
      "Baggage handling                           0.518372          0.367667   \n",
      "Checkin service                            0.247643          0.153023   \n",
      "Inflight service                           0.554964          0.371935   \n",
      "Cleanliness                                0.120562          0.094889   \n",
      "Departure Delay in Minutes                -0.032857          0.013969   \n",
      "Arrival Delay in Minutes                  -0.037474          0.011939   \n",
      "\n",
      "                                   Baggage handling  Checkin service  \\\n",
      "id                                         0.068095         0.081459   \n",
      "Age                                       -0.047510         0.034929   \n",
      "Flight Distance                            0.054505         0.079111   \n",
      "Inflight wifi service                      0.121116         0.044767   \n",
      "Departure/Arrival time convenient          0.070079         0.101008   \n",
      "Ease of Online booking                     0.033148         0.011899   \n",
      "Gate location                             -0.001741        -0.032130   \n",
      "Food and drink                             0.031714         0.090027   \n",
      "Online boarding                            0.079449         0.206357   \n",
      "Seat comfort                               0.073361         0.193249   \n",
      "Inflight entertainment                     0.379912         0.122998   \n",
      "On-board service                           0.518372         0.247643   \n",
      "Leg room service                           0.367667         0.153023   \n",
      "Baggage handling                           1.000000         0.230146   \n",
      "Checkin service                            0.230146         1.000000   \n",
      "Inflight service                           0.629211         0.239732   \n",
      "Cleanliness                                0.094756         0.177551   \n",
      "Departure Delay in Minutes                -0.008346        -0.021688   \n",
      "Arrival Delay in Minutes                  -0.011906        -0.025207   \n",
      "\n",
      "                                   Inflight service  Cleanliness  \\\n",
      "id                                         0.076934     0.014024   \n",
      "Age                                       -0.052009     0.050575   \n",
      "Flight Distance                            0.057244     0.089309   \n",
      "Inflight wifi service                      0.111715     0.136859   \n",
      "Departure/Arrival time convenient          0.071059     0.015796   \n",
      "Ease of Online booking                     0.033046     0.018832   \n",
      "Gate location                             -0.004470    -0.005528   \n",
      "Food and drink                             0.033039     0.657974   \n",
      "Online boarding                            0.073247     0.328015   \n",
      "Seat comfort                               0.066023     0.674293   \n",
      "Inflight entertainment                     0.409110     0.690854   \n",
      "On-board service                           0.554964     0.120562   \n",
      "Leg room service                           0.371935     0.094889   \n",
      "Baggage handling                           0.629211     0.094756   \n",
      "Checkin service                            0.239732     0.177551   \n",
      "Inflight service                           1.000000     0.089249   \n",
      "Cleanliness                                0.089249     1.000000   \n",
      "Departure Delay in Minutes                -0.065083    -0.020659   \n",
      "Arrival Delay in Minutes                  -0.069678    -0.019750   \n",
      "\n",
      "                                   Departure Delay in Minutes  \\\n",
      "id                                                  -0.017578   \n",
      "Age                                                 -0.009808   \n",
      "Flight Distance                                      0.004569   \n",
      "Inflight wifi service                               -0.018152   \n",
      "Departure/Arrival time convenient                    0.001028   \n",
      "Ease of Online booking                              -0.006680   \n",
      "Gate location                                        0.006087   \n",
      "Food and drink                                      -0.035416   \n",
      "Online boarding                                     -0.022394   \n",
      "Seat comfort                                        -0.034052   \n",
      "Inflight entertainment                              -0.033305   \n",
      "On-board service                                    -0.032857   \n",
      "Leg room service                                     0.013969   \n",
      "Baggage handling                                    -0.008346   \n",
      "Checkin service                                     -0.021688   \n",
      "Inflight service                                    -0.065083   \n",
      "Cleanliness                                         -0.020659   \n",
      "Departure Delay in Minutes                           1.000000   \n",
      "Arrival Delay in Minutes                             0.960404   \n",
      "\n",
      "                                   Arrival Delay in Minutes  \n",
      "id                                                -0.035797  \n",
      "Age                                               -0.010940  \n",
      "Flight Distance                                    0.001093  \n",
      "Inflight wifi service                             -0.018103  \n",
      "Departure/Arrival time convenient                 -0.001131  \n",
      "Ease of Online booking                            -0.006379  \n",
      "Gate location                                      0.006955  \n",
      "Food and drink                                    -0.035590  \n",
      "Online boarding                                   -0.025201  \n",
      "Seat comfort                                      -0.033613  \n",
      "Inflight entertainment                            -0.034946  \n",
      "On-board service                                  -0.037474  \n",
      "Leg room service                                   0.011939  \n",
      "Baggage handling                                  -0.011906  \n",
      "Checkin service                                   -0.025207  \n",
      "Inflight service                                  -0.069678  \n",
      "Cleanliness                                       -0.019750  \n",
      "Departure Delay in Minutes                         0.960404  \n",
      "Arrival Delay in Minutes                           1.000000  \n"
     ]
    }
   ],
   "source": [
    "# Se calcula la correlación entre variables numéricas\n",
    "print(df.corr())"
   ]
  },
  {
   "attachments": {},
   "cell_type": "markdown",
   "metadata": {},
   "source": [
    "# Modelo Dimensional Propuesto"
   ]
  },
  {
   "attachments": {},
   "cell_type": "markdown",
   "metadata": {},
   "source": [
    "### Tabla de Hechos (Satisfacción del Cliente)\n",
    "\n",
    "* idCliente (clave foránea)\n",
    "* idViaje (clave foránea)\n",
    "* idServicio (clave foránea)\n",
    "* idAeropuerto (clave foránea)\n",
    "* satisfaction\n",
    "* DepartureDelay\n",
    "* ArrivalDelay"
   ]
  },
  {
   "attachments": {},
   "cell_type": "markdown",
   "metadata": {},
   "source": [
    "### Dimensión Cliente\n",
    "\n",
    "* IdCliente (clave primaria)\n",
    "* Gender\n",
    "* CustomerType\n",
    "* age"
   ]
  },
  {
   "attachments": {},
   "cell_type": "markdown",
   "metadata": {},
   "source": [
    "### Dimensión Viaje\n",
    "\n",
    "* idViaje (clave primaria)\n",
    "* TypeTravel\n",
    "* Class\n",
    "* FlightDistance"
   ]
  },
  {
   "attachments": {},
   "cell_type": "markdown",
   "metadata": {},
   "source": [
    "### Dimensión Servicio\n",
    "\n",
    "* idServicio (clave primaria)\n",
    "* InflightWifiService\n",
    "* DepartureArrivalTimeConvenient\n",
    "* EaseOnlineBooking\n",
    "* GateLocation\n",
    "* FoodAndDrink\n",
    "* OnlineBoarding\n",
    "* SeatComfort\n",
    "* InflightEntertainment\n",
    "* OnboardService\n",
    "* LegRoomService\n",
    "* BaggageHandling\n",
    "* CheckinService\n",
    "* InflightService\n",
    "* Cleanliness"
   ]
  },
  {
   "attachments": {},
   "cell_type": "markdown",
   "metadata": {},
   "source": [
    "### Dimensión Aeropuerto"
   ]
  },
  {
   "attachments": {},
   "cell_type": "markdown",
   "metadata": {},
   "source": [
    "* idAeropuerto\n",
    "* airportName\n",
    "* airportCode"
   ]
  },
  {
   "attachments": {},
   "cell_type": "markdown",
   "metadata": {},
   "source": [
    "## Preparando la base de datos en RDS para la carga de las dimensiones\n",
    "## y tabla de hechos"
   ]
  },
  {
   "cell_type": "code",
   "execution_count": 18,
   "metadata": {},
   "outputs": [],
   "source": [
    "# Se crea una instancia de RDS\n",
    "aws_conn = boto3.client('rds', aws_access_key_id=config.get('IAM', 'ACCESS_KEY'),\n",
    "                    aws_secret_access_key=config.get('IAM', 'SECRET_ACCESS_KEY'),\n",
    "                    region_name='us-east-1')"
   ]
  },
  {
   "cell_type": "code",
   "execution_count": 19,
   "metadata": {},
   "outputs": [],
   "source": [
    "rdsIdentifier = 'al-satisfaction-db' #nombre de la instancia"
   ]
  },
  {
   "cell_type": "code",
   "execution_count": 20,
   "metadata": {},
   "outputs": [
    {
     "data": {
      "text/plain": [
       "' try:\\n    response = aws_conn.create_db_instance(\\n            AllocatedStorage=10,\\n            DBName=config.get(\\'RDS\\', \\'DB_NAME\\'),\\n            DBInstanceIdentifier=rdsIdentifier,\\n            DBInstanceClass=\"db.t3.micro\",\\n            Engine=\"postgres\",\\n            MasterUsername=config.get(\\'RDS\\', \\'DB_USER\\'),\\n            MasterUserPassword=config.get(\\'RDS\\', \\'DB_PASSWORD\\'),\\n            Port=int(config.get(\\'RDS\\', \\'DB_PORT\\')),\\n            VpcSecurityGroupIds=[config.get(\\'VPC\\', \\'SECURITY_GROUP\\')],\\n            PubliclyAccessible=True\\n        )\\n    print(response)\\nexcept aws_conn.exceptions.DBInstanceAlreadyExistsFault as ex:\\n    print(\"La Instancia de Base de Datos ya Existe.\") '"
      ]
     },
     "execution_count": 20,
     "metadata": {},
     "output_type": "execute_result"
    }
   ],
   "source": [
    "# Se crea una instancia de base de datos en RDS (Se comenta porque solamente se utiliza una vez)\n",
    "\"\"\" try:\n",
    "    response = aws_conn.create_db_instance(\n",
    "            AllocatedStorage=10,\n",
    "            DBName=config.get('RDS', 'DB_NAME'),\n",
    "            DBInstanceIdentifier=rdsIdentifier,\n",
    "            DBInstanceClass=\"db.t3.micro\",\n",
    "            Engine=\"postgres\",\n",
    "            MasterUsername=config.get('RDS', 'DB_USER'),\n",
    "            MasterUserPassword=config.get('RDS', 'DB_PASSWORD'),\n",
    "            Port=int(config.get('RDS', 'DB_PORT')),\n",
    "            VpcSecurityGroupIds=[config.get('VPC', 'SECURITY_GROUP')],\n",
    "            PubliclyAccessible=True\n",
    "        )\n",
    "    print(response)\n",
    "except aws_conn.exceptions.DBInstanceAlreadyExistsFault as ex:\n",
    "    print(\"La Instancia de Base de Datos ya Existe.\") \"\"\""
   ]
  },
  {
   "cell_type": "code",
   "execution_count": 21,
   "metadata": {},
   "outputs": [
    {
     "name": "stdout",
     "output_type": "stream",
     "text": [
      "DBInstanceIds ['al-satisfaction-db']\n"
     ]
    }
   ],
   "source": [
    "rdsInstanceIds = []\n",
    "\n",
    "response = aws_conn.describe_db_instances()\n",
    "for resp in response['DBInstances']:\n",
    "    rdsInstanceIds.append(resp['DBInstanceIdentifier'])\n",
    "    db_instance_status = resp['DBInstanceStatus']\n",
    "\n",
    "print(f\"DBInstanceIds {rdsInstanceIds}\")"
   ]
  },
  {
   "cell_type": "code",
   "execution_count": 22,
   "metadata": {},
   "outputs": [
    {
     "name": "stdout",
     "output_type": "stream",
     "text": [
      "al-satisfaction-db.csxwhg4rwkek.us-east-1.rds.amazonaws.com\n"
     ]
    }
   ],
   "source": [
    "# Se obtiene el URL del host\n",
    "try:\n",
    "     instances = aws_conn.describe_db_instances(DBInstanceIdentifier=rdsIdentifier)\n",
    "     RDS_HOST = instances.get('DBInstances')[0].get('Endpoint').get('Address')\n",
    "     print(RDS_HOST)\n",
    "except Exception as ex:\n",
    "     print(\"La instancia de base de datos no existe o aun no se ha terminado de crear.\")\n",
    "     print(ex)"
   ]
  },
  {
   "attachments": {},
   "cell_type": "markdown",
   "metadata": {},
   "source": [
    "## Se agregan las tablas de las dimensiones y tabla de hechos del DDL"
   ]
  },
  {
   "cell_type": "code",
   "execution_count": 23,
   "metadata": {},
   "outputs": [
    {
     "data": {
      "text/plain": [
       "'import dw_ddl\\n\\ntry:\\n    db_conn = psycopg2.connect(\\n        database=config.get(\\'RDS\\', \\'DB_NAME\\'), \\n        user=config.get(\\'RDS\\', \\'DB_USER\\'),\\n        password=config.get(\\'RDS\\', \\'DB_PASSWORD\\'), \\n        host=RDS_HOST,\\n        port=config.get(\\'RDS\\', \\'DB_PORT\\')\\n    )\\n\\n    cursor = db_conn.cursor()\\n    cursor.execute(dw_ddl.DDL_QUERY)\\n    db_conn.commit()\\n    print(\"Base de Datos Creada Exitosamente\")\\nexcept Exception as ex:\\n    print(\"ERROR: Error al crear la base de datos.\")\\n    print(ex) '"
      ]
     },
     "execution_count": 23,
     "metadata": {},
     "output_type": "execute_result"
    }
   ],
   "source": [
    "# Se comentan para que en la ejecución no vuelva a ejecutarse\n",
    "'''import dw_ddl\n",
    "\n",
    "try:\n",
    "    db_conn = psycopg2.connect(\n",
    "        database=config.get('RDS', 'DB_NAME'), \n",
    "        user=config.get('RDS', 'DB_USER'),\n",
    "        password=config.get('RDS', 'DB_PASSWORD'), \n",
    "        host=RDS_HOST,\n",
    "        port=config.get('RDS', 'DB_PORT')\n",
    "    )\n",
    "\n",
    "    cursor = db_conn.cursor()\n",
    "    cursor.execute(dw_ddl.DDL_QUERY)\n",
    "    db_conn.commit()\n",
    "    print(\"Base de Datos Creada Exitosamente\")\n",
    "except Exception as ex:\n",
    "    print(\"ERROR: Error al crear la base de datos.\")\n",
    "    print(ex) '''"
   ]
  },
  {
   "attachments": {},
   "cell_type": "markdown",
   "metadata": {},
   "source": [
    "## Se crea una función para insertar en las tablas"
   ]
  },
  {
   "cell_type": "code",
   "execution_count": 24,
   "metadata": {},
   "outputs": [],
   "source": [
    "def insertDataToSQL(data_dict, table_name):\n",
    "     postgres_driver = f\"\"\"postgresql://{config.get('RDS', 'DB_USER')}:{config.get('RDS', 'DB_PASSWORD')}@{RDS_HOST}:{config.get('RDS', 'DB_PORT')}/{config.get('RDS', 'DB_NAME')}\"\"\"    \n",
    "     df_data = pd.DataFrame.from_records(data_dict)\n",
    "     try:\n",
    "          response = df_data.to_sql(table_name, postgres_driver, index=False, if_exists='append')\n",
    "          print(f'Se han insertado {response} nuevos registros.' )\n",
    "     except Exception as ex:\n",
    "          print(ex)"
   ]
  },
  {
   "attachments": {},
   "cell_type": "markdown",
   "metadata": {},
   "source": [
    "## Se crean diccionarios para realizar los insert"
   ]
  },
  {
   "cell_type": "code",
   "execution_count": 25,
   "metadata": {},
   "outputs": [],
   "source": [
    "# Se crea una lista de diccionarios para insertar en las tablas\n",
    "dict_clientes = []\n",
    "dict_servicios = []\n",
    "dict_viajes = []\n",
    "dict_viaje_satisfaccion = []\n",
    "\n",
    "for i, row in df.iterrows():\n",
    "\n",
    "    dict_fila_cliente = {\n",
    "                'idcliente': i+1, 'gender': row['Gender'], \n",
    "                 'customer_type': row['Customer Type'], 'age': row['Age'] \n",
    "                 }\n",
    "    \n",
    "    dict_fila_servicio = {\n",
    "                'idservicio': i+1, 'wifi_service': row['Inflight wifi service'], \n",
    "                 'ease_of_online_booking': row['Ease of Online booking'], \n",
    "                 'gate_location': row['Gate location'], \n",
    "                 'food_and_drink': row['Food and drink'], \n",
    "                 'online_boarding': row['Online boarding'], \n",
    "                 'seat_comfort': row['Seat comfort'], \n",
    "                 'inflight_entertainment': row['Inflight entertainment'], \n",
    "                 'on_board_service': row['On-board service'], \n",
    "                 'leg_room_service': row['Leg room service'], \n",
    "                 'baggage_handling': row['Baggage handling'], \n",
    "                 'checkin_service': row['Checkin service'], \n",
    "                 'inflight_service': row['Inflight service'], \n",
    "                 'cleanliness': row['Cleanliness'], \n",
    "                 }\n",
    "    \n",
    "    dict_fila_viaje = {\n",
    "                'idviaje': row['id'], 'flight_distance': row['Flight Distance'], \n",
    "                 'travel_type': row['Type of Travel'], 'class': row['Class'] \n",
    "                 }\n",
    "    \n",
    "    dict_fila_viaje_satisfaccion = {\n",
    "                'idcliente': i+1, 'idviaje': row['id'], 'idservicio': i+1,  \n",
    "                'idaeropuerto': row['idAirport'], 'satisfaction': row['satisfaction'],\n",
    "                'departuredelay': row['Departure Delay in Minutes'], \n",
    "                'arrivaldelay': row['Arrival Delay in Minutes'],\n",
    "                }\n",
    "    \n",
    "    dict_clientes.append(dict_fila_cliente)\n",
    "    dict_servicios.append(dict_fila_servicio)\n",
    "    dict_viajes.append(dict_fila_viaje)\n",
    "    dict_viaje_satisfaccion.append(dict_fila_viaje_satisfaccion)"
   ]
  },
  {
   "cell_type": "code",
   "execution_count": 26,
   "metadata": {},
   "outputs": [],
   "source": [
    "# Le pegamos todos los aeropuertos del dataset de aeropuertos\n",
    "dict_aeropuertos = []\n",
    "for i, row in df_airports.iterrows():\n",
    "    dict_fila_aeropuerto = {\n",
    "                'idaeropuerto': row['idAirport'], 'airportname': row['airportName'], \n",
    "                 'airportcode': row['airportCode']\n",
    "                 }\n",
    "    dict_aeropuertos.append(dict_fila_aeropuerto)"
   ]
  },
  {
   "attachments": {},
   "cell_type": "markdown",
   "metadata": {},
   "source": [
    "## Se insertan los valores a la tabla dimensional de Cliente"
   ]
  },
  {
   "cell_type": "code",
   "execution_count": 27,
   "metadata": {},
   "outputs": [],
   "source": [
    "# Se llama la función para insertar los valores en la tabla de cliente\n",
    "# insertDataToSQL(dict_clientes, 'cliente')"
   ]
  },
  {
   "attachments": {},
   "cell_type": "markdown",
   "metadata": {},
   "source": [
    "## Se insertan los valores a la tabla dimensional de Viaje"
   ]
  },
  {
   "cell_type": "code",
   "execution_count": 28,
   "metadata": {},
   "outputs": [],
   "source": [
    "# Se llama la función para insertar los valores en la tabla de viaje\n",
    "# insertDataToSQL(dict_viajes, 'viaje')"
   ]
  },
  {
   "attachments": {},
   "cell_type": "markdown",
   "metadata": {},
   "source": [
    "## Se insertan los valores a la tabla dimensional de Servicio"
   ]
  },
  {
   "cell_type": "code",
   "execution_count": 29,
   "metadata": {},
   "outputs": [],
   "source": [
    "# Se llama la función para insertar los valores en la tabla de servicio\n",
    "# insertDataToSQL(dict_servicios, 'servicio')"
   ]
  },
  {
   "attachments": {},
   "cell_type": "markdown",
   "metadata": {},
   "source": [
    "## Se insertan los valores a la tabla dimensional de Aeropuerto"
   ]
  },
  {
   "cell_type": "code",
   "execution_count": 30,
   "metadata": {},
   "outputs": [],
   "source": [
    "# Se llama la función para insertar los valores en la tabla de aeropuerto\n",
    "# insertDataToSQL(dict_aeropuertos, 'aeropuerto')"
   ]
  },
  {
   "attachments": {},
   "cell_type": "markdown",
   "metadata": {},
   "source": [
    "## Se insertan los valores a la tabla de hechos Viaje Satisfacción"
   ]
  },
  {
   "cell_type": "code",
   "execution_count": 31,
   "metadata": {},
   "outputs": [],
   "source": [
    "# Se llama la función para insertar los valores en la tabla de viaje\n",
    "# insertDataToSQL(dict_viaje_satisfaccion, 'viaje_satisfaccion')"
   ]
  },
  {
   "attachments": {},
   "cell_type": "markdown",
   "metadata": {},
   "source": [
    "## Empezamos con las queries para traer la data de las tablas"
   ]
  },
  {
   "cell_type": "code",
   "execution_count": 32,
   "metadata": {},
   "outputs": [],
   "source": [
    "# Llamamos al driver para conectarnos con la base de datos en postgresql\n",
    "postgres_driver = f\"\"\"postgresql://{config.get('RDS', 'DB_USER')}:{config.get('RDS', 'DB_PASSWORD')}@{RDS_HOST}:{config.get('RDS', 'DB_PORT')}/{config.get('RDS', 'DB_NAME')}\"\"\""
   ]
  },
  {
   "attachments": {},
   "cell_type": "markdown",
   "metadata": {},
   "source": [
    "### Obtenemos la dimensión de Cliente"
   ]
  },
  {
   "cell_type": "code",
   "execution_count": 33,
   "metadata": {},
   "outputs": [
    {
     "data": {
      "text/html": [
       "<div>\n",
       "<style scoped>\n",
       "    .dataframe tbody tr th:only-of-type {\n",
       "        vertical-align: middle;\n",
       "    }\n",
       "\n",
       "    .dataframe tbody tr th {\n",
       "        vertical-align: top;\n",
       "    }\n",
       "\n",
       "    .dataframe thead th {\n",
       "        text-align: right;\n",
       "    }\n",
       "</style>\n",
       "<table border=\"1\" class=\"dataframe\">\n",
       "  <thead>\n",
       "    <tr style=\"text-align: right;\">\n",
       "      <th></th>\n",
       "      <th>idcliente</th>\n",
       "      <th>gender</th>\n",
       "      <th>customer_type</th>\n",
       "      <th>age</th>\n",
       "    </tr>\n",
       "  </thead>\n",
       "  <tbody>\n",
       "    <tr>\n",
       "      <th>0</th>\n",
       "      <td>1</td>\n",
       "      <td>Female</td>\n",
       "      <td>Loyal Customer</td>\n",
       "      <td>40</td>\n",
       "    </tr>\n",
       "    <tr>\n",
       "      <th>1</th>\n",
       "      <td>2</td>\n",
       "      <td>Female</td>\n",
       "      <td>Loyal Customer</td>\n",
       "      <td>34</td>\n",
       "    </tr>\n",
       "    <tr>\n",
       "      <th>2</th>\n",
       "      <td>3</td>\n",
       "      <td>Female</td>\n",
       "      <td>Loyal Customer</td>\n",
       "      <td>54</td>\n",
       "    </tr>\n",
       "    <tr>\n",
       "      <th>3</th>\n",
       "      <td>4</td>\n",
       "      <td>Female</td>\n",
       "      <td>Loyal Customer</td>\n",
       "      <td>69</td>\n",
       "    </tr>\n",
       "    <tr>\n",
       "      <th>4</th>\n",
       "      <td>5</td>\n",
       "      <td>Male</td>\n",
       "      <td>Loyal Customer</td>\n",
       "      <td>48</td>\n",
       "    </tr>\n",
       "  </tbody>\n",
       "</table>\n",
       "</div>"
      ],
      "text/plain": [
       "   idcliente  gender   customer_type  age\n",
       "0          1  Female  Loyal Customer   40\n",
       "1          2  Female  Loyal Customer   34\n",
       "2          3  Female  Loyal Customer   54\n",
       "3          4  Female  Loyal Customer   69\n",
       "4          5    Male  Loyal Customer   48"
      ]
     },
     "execution_count": 33,
     "metadata": {},
     "output_type": "execute_result"
    }
   ],
   "source": [
    "sql_query = 'SELECT * FROM cliente;'\n",
    "df_clientes = pd.read_sql(sql_query, postgres_driver)\n",
    "df_clientes.head()"
   ]
  },
  {
   "attachments": {},
   "cell_type": "markdown",
   "metadata": {},
   "source": [
    "### Obtenemos la dimensión de Servicio"
   ]
  },
  {
   "cell_type": "code",
   "execution_count": 34,
   "metadata": {},
   "outputs": [
    {
     "data": {
      "text/html": [
       "<div>\n",
       "<style scoped>\n",
       "    .dataframe tbody tr th:only-of-type {\n",
       "        vertical-align: middle;\n",
       "    }\n",
       "\n",
       "    .dataframe tbody tr th {\n",
       "        vertical-align: top;\n",
       "    }\n",
       "\n",
       "    .dataframe thead th {\n",
       "        text-align: right;\n",
       "    }\n",
       "</style>\n",
       "<table border=\"1\" class=\"dataframe\">\n",
       "  <thead>\n",
       "    <tr style=\"text-align: right;\">\n",
       "      <th></th>\n",
       "      <th>idservicio</th>\n",
       "      <th>wifi_service</th>\n",
       "      <th>ease_of_online_booking</th>\n",
       "      <th>gate_location</th>\n",
       "      <th>food_and_drink</th>\n",
       "      <th>online_boarding</th>\n",
       "      <th>seat_comfort</th>\n",
       "      <th>inflight_entertainment</th>\n",
       "      <th>on_board_service</th>\n",
       "      <th>leg_room_service</th>\n",
       "      <th>baggage_handling</th>\n",
       "      <th>checkin_service</th>\n",
       "      <th>inflight_service</th>\n",
       "      <th>cleanliness</th>\n",
       "    </tr>\n",
       "  </thead>\n",
       "  <tbody>\n",
       "    <tr>\n",
       "      <th>0</th>\n",
       "      <td>1</td>\n",
       "      <td>2</td>\n",
       "      <td>3</td>\n",
       "      <td>3</td>\n",
       "      <td>2</td>\n",
       "      <td>2</td>\n",
       "      <td>2</td>\n",
       "      <td>2</td>\n",
       "      <td>1</td>\n",
       "      <td>1</td>\n",
       "      <td>2</td>\n",
       "      <td>1</td>\n",
       "      <td>2</td>\n",
       "      <td>2</td>\n",
       "    </tr>\n",
       "    <tr>\n",
       "      <th>1</th>\n",
       "      <td>2</td>\n",
       "      <td>2</td>\n",
       "      <td>2</td>\n",
       "      <td>2</td>\n",
       "      <td>3</td>\n",
       "      <td>1</td>\n",
       "      <td>3</td>\n",
       "      <td>3</td>\n",
       "      <td>3</td>\n",
       "      <td>4</td>\n",
       "      <td>3</td>\n",
       "      <td>3</td>\n",
       "      <td>3</td>\n",
       "      <td>3</td>\n",
       "    </tr>\n",
       "    <tr>\n",
       "      <th>2</th>\n",
       "      <td>3</td>\n",
       "      <td>3</td>\n",
       "      <td>4</td>\n",
       "      <td>4</td>\n",
       "      <td>3</td>\n",
       "      <td>3</td>\n",
       "      <td>4</td>\n",
       "      <td>4</td>\n",
       "      <td>4</td>\n",
       "      <td>4</td>\n",
       "      <td>4</td>\n",
       "      <td>3</td>\n",
       "      <td>4</td>\n",
       "      <td>2</td>\n",
       "    </tr>\n",
       "    <tr>\n",
       "      <th>3</th>\n",
       "      <td>4</td>\n",
       "      <td>3</td>\n",
       "      <td>3</td>\n",
       "      <td>4</td>\n",
       "      <td>4</td>\n",
       "      <td>3</td>\n",
       "      <td>3</td>\n",
       "      <td>4</td>\n",
       "      <td>4</td>\n",
       "      <td>3</td>\n",
       "      <td>4</td>\n",
       "      <td>1</td>\n",
       "      <td>4</td>\n",
       "      <td>3</td>\n",
       "    </tr>\n",
       "    <tr>\n",
       "      <th>4</th>\n",
       "      <td>5</td>\n",
       "      <td>4</td>\n",
       "      <td>4</td>\n",
       "      <td>3</td>\n",
       "      <td>1</td>\n",
       "      <td>4</td>\n",
       "      <td>1</td>\n",
       "      <td>1</td>\n",
       "      <td>4</td>\n",
       "      <td>3</td>\n",
       "      <td>5</td>\n",
       "      <td>5</td>\n",
       "      <td>5</td>\n",
       "      <td>1</td>\n",
       "    </tr>\n",
       "  </tbody>\n",
       "</table>\n",
       "</div>"
      ],
      "text/plain": [
       "   idservicio  wifi_service  ease_of_online_booking  gate_location  \\\n",
       "0           1             2                       3              3   \n",
       "1           2             2                       2              2   \n",
       "2           3             3                       4              4   \n",
       "3           4             3                       3              4   \n",
       "4           5             4                       4              3   \n",
       "\n",
       "   food_and_drink  online_boarding  seat_comfort  inflight_entertainment  \\\n",
       "0               2                2             2                       2   \n",
       "1               3                1             3                       3   \n",
       "2               3                3             4                       4   \n",
       "3               4                3             3                       4   \n",
       "4               1                4             1                       1   \n",
       "\n",
       "   on_board_service  leg_room_service  baggage_handling  checkin_service  \\\n",
       "0                 1                 1                 2                1   \n",
       "1                 3                 4                 3                3   \n",
       "2                 4                 4                 4                3   \n",
       "3                 4                 3                 4                1   \n",
       "4                 4                 3                 5                5   \n",
       "\n",
       "   inflight_service  cleanliness  \n",
       "0                 2            2  \n",
       "1                 3            3  \n",
       "2                 4            2  \n",
       "3                 4            3  \n",
       "4                 5            1  "
      ]
     },
     "execution_count": 34,
     "metadata": {},
     "output_type": "execute_result"
    }
   ],
   "source": [
    "sql_query = 'SELECT * FROM servicio;'\n",
    "df_servicios = pd.read_sql(sql_query, postgres_driver)\n",
    "df_servicios.head()"
   ]
  },
  {
   "attachments": {},
   "cell_type": "markdown",
   "metadata": {},
   "source": [
    "### Obtenemos la dimensión de Viaje"
   ]
  },
  {
   "cell_type": "code",
   "execution_count": 35,
   "metadata": {},
   "outputs": [
    {
     "data": {
      "text/html": [
       "<div>\n",
       "<style scoped>\n",
       "    .dataframe tbody tr th:only-of-type {\n",
       "        vertical-align: middle;\n",
       "    }\n",
       "\n",
       "    .dataframe tbody tr th {\n",
       "        vertical-align: top;\n",
       "    }\n",
       "\n",
       "    .dataframe thead th {\n",
       "        text-align: right;\n",
       "    }\n",
       "</style>\n",
       "<table border=\"1\" class=\"dataframe\">\n",
       "  <thead>\n",
       "    <tr style=\"text-align: right;\">\n",
       "      <th></th>\n",
       "      <th>idviaje</th>\n",
       "      <th>flight_distance</th>\n",
       "      <th>travel_type</th>\n",
       "      <th>class</th>\n",
       "    </tr>\n",
       "  </thead>\n",
       "  <tbody>\n",
       "    <tr>\n",
       "      <th>0</th>\n",
       "      <td>106966</td>\n",
       "      <td>1036</td>\n",
       "      <td>Business travel</td>\n",
       "      <td>Eco</td>\n",
       "    </tr>\n",
       "    <tr>\n",
       "      <th>1</th>\n",
       "      <td>54152</td>\n",
       "      <td>1569</td>\n",
       "      <td>Business travel</td>\n",
       "      <td>Business</td>\n",
       "    </tr>\n",
       "    <tr>\n",
       "      <th>2</th>\n",
       "      <td>26463</td>\n",
       "      <td>925</td>\n",
       "      <td>Personal Travel</td>\n",
       "      <td>Eco</td>\n",
       "    </tr>\n",
       "    <tr>\n",
       "      <th>3</th>\n",
       "      <td>46257</td>\n",
       "      <td>624</td>\n",
       "      <td>Personal Travel</td>\n",
       "      <td>Eco</td>\n",
       "    </tr>\n",
       "    <tr>\n",
       "      <th>4</th>\n",
       "      <td>33133</td>\n",
       "      <td>102</td>\n",
       "      <td>Personal Travel</td>\n",
       "      <td>Eco</td>\n",
       "    </tr>\n",
       "  </tbody>\n",
       "</table>\n",
       "</div>"
      ],
      "text/plain": [
       "   idviaje  flight_distance      travel_type     class\n",
       "0   106966             1036  Business travel       Eco\n",
       "1    54152             1569  Business travel  Business\n",
       "2    26463              925  Personal Travel       Eco\n",
       "3    46257              624  Personal Travel       Eco\n",
       "4    33133              102  Personal Travel       Eco"
      ]
     },
     "execution_count": 35,
     "metadata": {},
     "output_type": "execute_result"
    }
   ],
   "source": [
    "sql_query = 'SELECT * FROM viaje;'\n",
    "df_viajes = pd.read_sql(sql_query, postgres_driver)\n",
    "df_viajes.head()"
   ]
  },
  {
   "attachments": {},
   "cell_type": "markdown",
   "metadata": {},
   "source": [
    "### Obtenemos la dimensión de Aeropuerto"
   ]
  },
  {
   "cell_type": "code",
   "execution_count": 36,
   "metadata": {},
   "outputs": [
    {
     "data": {
      "text/html": [
       "<div>\n",
       "<style scoped>\n",
       "    .dataframe tbody tr th:only-of-type {\n",
       "        vertical-align: middle;\n",
       "    }\n",
       "\n",
       "    .dataframe tbody tr th {\n",
       "        vertical-align: top;\n",
       "    }\n",
       "\n",
       "    .dataframe thead th {\n",
       "        text-align: right;\n",
       "    }\n",
       "</style>\n",
       "<table border=\"1\" class=\"dataframe\">\n",
       "  <thead>\n",
       "    <tr style=\"text-align: right;\">\n",
       "      <th></th>\n",
       "      <th>idaeropuerto</th>\n",
       "      <th>airportname</th>\n",
       "      <th>airportcode</th>\n",
       "    </tr>\n",
       "  </thead>\n",
       "  <tbody>\n",
       "    <tr>\n",
       "      <th>0</th>\n",
       "      <td>1</td>\n",
       "      <td>Ukhta Airport</td>\n",
       "      <td>UCT</td>\n",
       "    </tr>\n",
       "    <tr>\n",
       "      <th>1</th>\n",
       "      <td>2</td>\n",
       "      <td>Aleknagik / New Airport</td>\n",
       "      <td>WKK</td>\n",
       "    </tr>\n",
       "    <tr>\n",
       "      <th>2</th>\n",
       "      <td>3</td>\n",
       "      <td>Guangzhou Baiyun International Airport</td>\n",
       "      <td>CAN</td>\n",
       "    </tr>\n",
       "    <tr>\n",
       "      <th>3</th>\n",
       "      <td>4</td>\n",
       "      <td>Leipzig/Halle Airport</td>\n",
       "      <td>LEJ</td>\n",
       "    </tr>\n",
       "    <tr>\n",
       "      <th>4</th>\n",
       "      <td>5</td>\n",
       "      <td>Charleston Air Force Base-International Airport</td>\n",
       "      <td>CHS</td>\n",
       "    </tr>\n",
       "  </tbody>\n",
       "</table>\n",
       "</div>"
      ],
      "text/plain": [
       "   idaeropuerto                                      airportname airportcode\n",
       "0             1                                    Ukhta Airport       UCT  \n",
       "1             2                          Aleknagik / New Airport       WKK  \n",
       "2             3           Guangzhou Baiyun International Airport       CAN  \n",
       "3             4                            Leipzig/Halle Airport       LEJ  \n",
       "4             5  Charleston Air Force Base-International Airport       CHS  "
      ]
     },
     "execution_count": 36,
     "metadata": {},
     "output_type": "execute_result"
    }
   ],
   "source": [
    "sql_query = 'SELECT * FROM aeropuerto;'\n",
    "df_aeropuertos = pd.read_sql(sql_query, postgres_driver)\n",
    "df_aeropuertos.head()"
   ]
  },
  {
   "attachments": {},
   "cell_type": "markdown",
   "metadata": {},
   "source": [
    "### Obtenemos la tabla de hechos Viaje Satisfacción"
   ]
  },
  {
   "cell_type": "code",
   "execution_count": 38,
   "metadata": {},
   "outputs": [
    {
     "data": {
      "text/html": [
       "<div>\n",
       "<style scoped>\n",
       "    .dataframe tbody tr th:only-of-type {\n",
       "        vertical-align: middle;\n",
       "    }\n",
       "\n",
       "    .dataframe tbody tr th {\n",
       "        vertical-align: top;\n",
       "    }\n",
       "\n",
       "    .dataframe thead th {\n",
       "        text-align: right;\n",
       "    }\n",
       "</style>\n",
       "<table border=\"1\" class=\"dataframe\">\n",
       "  <thead>\n",
       "    <tr style=\"text-align: right;\">\n",
       "      <th></th>\n",
       "      <th>idcliente</th>\n",
       "      <th>idviaje</th>\n",
       "      <th>idservicio</th>\n",
       "      <th>idaeropuerto</th>\n",
       "      <th>satisfaction</th>\n",
       "      <th>departuredelay</th>\n",
       "      <th>arrivaldelay</th>\n",
       "    </tr>\n",
       "  </thead>\n",
       "  <tbody>\n",
       "    <tr>\n",
       "      <th>0</th>\n",
       "      <td>1</td>\n",
       "      <td>106966</td>\n",
       "      <td>1</td>\n",
       "      <td>105</td>\n",
       "      <td>neutral or dissatisfied</td>\n",
       "      <td>26</td>\n",
       "      <td>32.0</td>\n",
       "    </tr>\n",
       "    <tr>\n",
       "      <th>1</th>\n",
       "      <td>2</td>\n",
       "      <td>54152</td>\n",
       "      <td>2</td>\n",
       "      <td>931</td>\n",
       "      <td>satisfied</td>\n",
       "      <td>0</td>\n",
       "      <td>0.0</td>\n",
       "    </tr>\n",
       "    <tr>\n",
       "      <th>2</th>\n",
       "      <td>3</td>\n",
       "      <td>26463</td>\n",
       "      <td>3</td>\n",
       "      <td>800</td>\n",
       "      <td>neutral or dissatisfied</td>\n",
       "      <td>0</td>\n",
       "      <td>1.0</td>\n",
       "    </tr>\n",
       "    <tr>\n",
       "      <th>3</th>\n",
       "      <td>4</td>\n",
       "      <td>46257</td>\n",
       "      <td>4</td>\n",
       "      <td>986</td>\n",
       "      <td>neutral or dissatisfied</td>\n",
       "      <td>36</td>\n",
       "      <td>33.0</td>\n",
       "    </tr>\n",
       "    <tr>\n",
       "      <th>4</th>\n",
       "      <td>5</td>\n",
       "      <td>33133</td>\n",
       "      <td>5</td>\n",
       "      <td>801</td>\n",
       "      <td>satisfied</td>\n",
       "      <td>1</td>\n",
       "      <td>4.0</td>\n",
       "    </tr>\n",
       "  </tbody>\n",
       "</table>\n",
       "</div>"
      ],
      "text/plain": [
       "   idcliente  idviaje  idservicio  idaeropuerto             satisfaction  \\\n",
       "0          1   106966           1           105  neutral or dissatisfied   \n",
       "1          2    54152           2           931                satisfied   \n",
       "2          3    26463           3           800  neutral or dissatisfied   \n",
       "3          4    46257           4           986  neutral or dissatisfied   \n",
       "4          5    33133           5           801                satisfied   \n",
       "\n",
       "   departuredelay  arrivaldelay  \n",
       "0              26          32.0  \n",
       "1               0           0.0  \n",
       "2               0           1.0  \n",
       "3              36          33.0  \n",
       "4               1           4.0  "
      ]
     },
     "execution_count": 38,
     "metadata": {},
     "output_type": "execute_result"
    }
   ],
   "source": [
    "sql_query = 'SELECT * FROM viaje_satisfaccion;'\n",
    "df_viaje_satisfaccion = pd.read_sql(sql_query, postgres_driver)\n",
    "df_viaje_satisfaccion.head()"
   ]
  },
  {
   "attachments": {},
   "cell_type": "markdown",
   "metadata": {},
   "source": [
    "## Empezamos a resolver las preguntas planteadas"
   ]
  },
  {
   "attachments": {},
   "cell_type": "markdown",
   "metadata": {},
   "source": [
    "#### 1. ¿Cuantos clientes leales tuvieron vuelos satisfactorios?"
   ]
  },
  {
   "cell_type": "code",
   "execution_count": 39,
   "metadata": {},
   "outputs": [
    {
     "name": "stdout",
     "output_type": "stream",
     "text": [
      "El número de clientes leales con vuelos satisfactorios es: 15539\n"
     ]
    }
   ],
   "source": [
    "# Se filtran los clientes leales\n",
    "df_clientes_leales = df_clientes[df_clientes['customer_type'] == 'Loyal Customer']\n",
    "\n",
    "# Luego filtramos los vuelos satisfactorios\n",
    "df_vuelos_satisfactorios = df_viaje_satisfaccion[df_viaje_satisfaccion['satisfaction'] == 'satisfied']\n",
    "\n",
    "# Combinamos df_clientes_leales y df_vuelos_satisfactorios utilizando merge()\n",
    "df_clientes_leales_satisfactorios = pd.merge(df_clientes_leales, df_vuelos_satisfactorios, on='idcliente')\n",
    "\n",
    "# Contamos el número de clientes leales con vuelos satisfactorios\n",
    "num_clientes_leales_satisfactorios = df_clientes_leales_satisfactorios['idcliente'].nunique()\n",
    "\n",
    "print(f\"El número de clientes leales con vuelos satisfactorios es: {num_clientes_leales_satisfactorios}\")"
   ]
  },
  {
   "attachments": {},
   "cell_type": "markdown",
   "metadata": {},
   "source": [
    "#### 2. ¿A qué sexo (masculino y femenino) le costó más agendar un vuelo en línea?"
   ]
  },
  {
   "cell_type": "code",
   "execution_count": 41,
   "metadata": {},
   "outputs": [
    {
     "name": "stdout",
     "output_type": "stream",
     "text": [
      "gender\n",
      "Female    2.737814\n",
      "Male      2.772557\n",
      "Name: ease_of_online_booking, dtype: float64\n",
      "Por lo tanto, según los resultados le costó más a los hombres\n"
     ]
    }
   ],
   "source": [
    "# Combinamos la tablas 'cliente' y 'viaje_satisfaccion'\n",
    "clientes_viaje_satisfaccion = pd.merge(df_clientes, df_viaje_satisfaccion, on='idcliente')\n",
    "\n",
    "# Luego combinamos las tablas 'clientes_viaje_satisfaccion' y 'servicio'\n",
    "clientes_servicio = pd.merge(clientes_viaje_satisfaccion, df_servicios, on='idservicio')\n",
    "\n",
    "# Calculamos la dificultad promedio de agendar un vuelo en línea para cada sexo\n",
    "dificultad_promedio_por_sexo = clientes_servicio.groupby('gender')['ease_of_online_booking'].mean()\n",
    "\n",
    "print(dificultad_promedio_por_sexo)\n",
    "print(\"Por lo tanto, según los resultados le costó más a los hombres\")"
   ]
  },
  {
   "attachments": {},
   "cell_type": "markdown",
   "metadata": {},
   "source": [
    "#### 3. ¿Cuáles son los factores que tienen el mayor impacto en la satisfacción de los pasajeros?"
   ]
  },
  {
   "cell_type": "code",
   "execution_count": 42,
   "metadata": {},
   "outputs": [
    {
     "name": "stdout",
     "output_type": "stream",
     "text": [
      "satisfaction_encoded      1.000000\n",
      "online_boarding           0.501286\n",
      "inflight_entertainment    0.394350\n",
      "seat_comfort              0.344905\n",
      "on_board_service          0.320996\n",
      "leg_room_service          0.310888\n",
      "cleanliness               0.299173\n",
      "wifi_service              0.280577\n",
      "inflight_service          0.244741\n",
      "baggage_handling          0.243502\n",
      "checkin_service           0.238632\n",
      "food_and_drink            0.202840\n",
      "ease_of_online_booking    0.168680\n",
      "arrivaldelay              0.056557\n",
      "departuredelay            0.050529\n",
      "idviaje                   0.014911\n",
      "idaeropuerto              0.008857\n",
      "gate_location             0.001299\n",
      "idservicio                0.001115\n",
      "idcliente                 0.001115\n",
      "Name: satisfaction_encoded, dtype: float64\n"
     ]
    }
   ],
   "source": [
    "# Combinamos las tablas 'viaje_satisfaccion' y 'servicio'\n",
    "satisfaccion_servicio = pd.merge(df_viaje_satisfaccion, df_servicios, on='idservicio')\n",
    "\n",
    "# Combinamos la columna 'satisfaction' en valores numéricos (1 para 'satisfied' y 0 para 'neutral or dissatisfied')\n",
    "satisfaccion_servicio['satisfaction_encoded'] = satisfaccion_servicio['satisfaction'].apply(lambda x: 1 if x == 'satisfied' else 0)\n",
    "\n",
    "# Eliminamos la columna 'satisfaction' original para evitar errores de tipo\n",
    "satisfaccion_servicio = satisfaccion_servicio.drop(columns=['satisfaction'])\n",
    "\n",
    "# Calculamos las correlaciones entre la satisfacción de los pasajeros y cada uno de los factores de servicio\n",
    "correlaciones = satisfaccion_servicio.corr(method='pearson')['satisfaction_encoded']\n",
    "\n",
    "# Mostramos las correlaciones en orden descendente para ver qué factores tienen el mayor impacto en la satisfacción de los pasajeros\n",
    "correlaciones_absolutas = correlaciones.abs()\n",
    "correlaciones_ordenadas = correlaciones_absolutas.sort_values(ascending=False)\n",
    "\n",
    "print(correlaciones_ordenadas)"
   ]
  },
  {
   "attachments": {},
   "cell_type": "markdown",
   "metadata": {},
   "source": [
    "#### 4. ¿Hay alguna diferencia en la satisfacción de los pasajeros entre las diferentes aerolíneas?"
   ]
  },
  {
   "cell_type": "code",
   "execution_count": 43,
   "metadata": {},
   "outputs": [
    {
     "name": "stdout",
     "output_type": "stream",
     "text": [
      "airportname\n",
      "28 de Noviembre Airport                            0.388889\n",
      "Aasiaat Airport                                    0.372093\n",
      "Aba Tenna Dejazmach Yilma International Airport    0.312500\n",
      "Abau Airport                                       0.457143\n",
      "Acadiana Regional Airport                          0.514286\n",
      "                                                     ...   \n",
      "Zhangjiakou Ningyuan Airport                       0.515152\n",
      "Zhengzhou Xinzheng International Airport           0.511111\n",
      "Île des Pins Airport                               0.315789\n",
      "Öndörkhaan Airport                                 0.326087\n",
      "Ørland Airport                                     0.500000\n",
      "Name: satisfied, Length: 943, dtype: float64\n"
     ]
    }
   ],
   "source": [
    "# Combinamos las tablas 'viaje_satisfaccion' y 'aeropuerto'\n",
    "satisfaccion_aeropuerto = pd.merge(df_viaje_satisfaccion, df_aeropuertos, left_on='idaeropuerto', right_on='idaeropuerto')\n",
    "\n",
    "# Luego calculamos la proporción de pasajeros satisfechos para cada aerolínea\n",
    "satisfaccion_por_aerolinea = satisfaccion_aeropuerto.groupby('airportname')['satisfaction'].value_counts(normalize=True).unstack()\n",
    "\n",
    "# Por ultimo mostramos la proporción de pasajeros satisfechos para cada aerolínea\n",
    "print(satisfaccion_por_aerolinea['satisfied'])"
   ]
  },
  {
   "cell_type": "code",
   "execution_count": 44,
   "metadata": {},
   "outputs": [
    {
     "name": "stdout",
     "output_type": "stream",
     "text": [
      "Aerolíneas con la mayor proporción de pasajeros satisfechos:\n",
      "airportname\n",
      "Boalang Airport                      0.707317\n",
      "Pangborn Memorial Airport            0.680851\n",
      "Vanrook Station Airport              0.676471\n",
      "Balurghat Airport                    0.676471\n",
      "John H Batten Airport                0.675000\n",
      "Bata Airport                         0.674419\n",
      "La Tontouta International Airport    0.666667\n",
      "Héroes De Malvinas Airport           0.631579\n",
      "Sui Airport                          0.625000\n",
      "Tanjung Harapan Airport              0.625000\n",
      "Name: satisfied, dtype: float64\n",
      "\n",
      "Aerolíneas con la menor proporción de pasajeros satisfechos:\n",
      "airportname\n",
      "Dillon's Bay Airport                     0.250000\n",
      "Rogers Municipal Airport-Carter Field    0.250000\n",
      "Yampa Valley Airport                     0.243243\n",
      "Clarks Point Airport                     0.243243\n",
      "London Biggin Hill Airport               0.241379\n",
      "Enarotali Airport                        0.236842\n",
      "Maota Airport                            0.229167\n",
      "Blytheville Municipal Airport            0.222222\n",
      "Santa Ana Airport                        0.195652\n",
      "Ontong Java Atoll Airstrip               0.181818\n",
      "Name: satisfied, dtype: float64\n"
     ]
    }
   ],
   "source": [
    "# Para visualizar mejor los resultados colocamos las proporciones de satisfacción en orden descendente\n",
    "satisfaccion_ordenada = satisfaccion_por_aerolinea['satisfied'].sort_values(ascending=False)\n",
    "\n",
    "# Podemos visualizar las 10 aerolíneas con la mayor proporción de pasajeros satisfechos\n",
    "print(\"Aerolíneas con la mayor proporción de pasajeros satisfechos:\")\n",
    "print(satisfaccion_ordenada.head(10))\n",
    "\n",
    "# Tambien visualizamos las 10 aerolíneas con la menor proporción de pasajeros satisfechos\n",
    "print(\"\\nAerolíneas con la menor proporción de pasajeros satisfechos:\")\n",
    "print(satisfaccion_ordenada.tail(10))"
   ]
  },
  {
   "attachments": {},
   "cell_type": "markdown",
   "metadata": {},
   "source": [
    "#### 5. ¿La satisfacción de los pasajeros difiere según el tipo de viaje o la clase de viaje?"
   ]
  },
  {
   "cell_type": "code",
   "execution_count": 45,
   "metadata": {},
   "outputs": [
    {
     "name": "stdout",
     "output_type": "stream",
     "text": [
      "Satisfacción por tipo de viaje:\n",
      "travel_type\n",
      "Business travel    0.578555\n",
      "Personal Travel    0.103838\n",
      "Name: satisfied, dtype: float64\n",
      "\n",
      "Satisfacción por clase de viaje:\n",
      "class\n",
      "Business    0.690249\n",
      "Eco         0.186575\n",
      "Eco Plus    0.239009\n",
      "Name: satisfied, dtype: float64\n"
     ]
    }
   ],
   "source": [
    "# Combinamos las tablas 'viaje_satisfaccion' y 'viaje'\n",
    "satisfaccion_viaje = pd.merge(df_viaje_satisfaccion, df_viajes, left_on='idviaje', right_on='idviaje')\n",
    "\n",
    "# Calculamos la proporción de pasajeros satisfechos para cada tipo de viaje y clase de viaje\n",
    "satisfaccion_por_tipo = satisfaccion_viaje.groupby('travel_type')['satisfaction'].value_counts(normalize=True).unstack()\n",
    "satisfaccion_por_clase = satisfaccion_viaje.groupby('class')['satisfaction'].value_counts(normalize=True).unstack()\n",
    "\n",
    "# Visualizamos la proporción de pasajeros satisfechos para cada tipo de viaje y clase de viaje\n",
    "print(\"Satisfacción por tipo de viaje:\")\n",
    "print(satisfaccion_por_tipo['satisfied'])\n",
    "\n",
    "print(\"\\nSatisfacción por clase de viaje:\")\n",
    "print(satisfaccion_por_clase['satisfied'])"
   ]
  }
 ],
 "metadata": {
  "kernelspec": {
   "display_name": "base",
   "language": "python",
   "name": "python3"
  },
  "language_info": {
   "codemirror_mode": {
    "name": "ipython",
    "version": 3
   },
   "file_extension": ".py",
   "mimetype": "text/x-python",
   "name": "python",
   "nbconvert_exporter": "python",
   "pygments_lexer": "ipython3",
   "version": "3.9.13"
  },
  "orig_nbformat": 4,
  "vscode": {
   "interpreter": {
    "hash": "eab13fdaf92fe66898558a4fc352f13342b3268e938f56df5b50e029ef1bf702"
   }
  }
 },
 "nbformat": 4,
 "nbformat_minor": 2
}
